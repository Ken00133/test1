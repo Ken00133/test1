{
 "cells": [
  {
   "cell_type": "code",
   "execution_count": 40,
   "metadata": {
    "scrolled": true
   },
   "outputs": [
    {
     "name": "stdout",
     "output_type": "stream",
     "text": [
      "Requirement already satisfied: opencv-python in c:\\users\\wongt\\appdata\\roaming\\python\\python38\\site-packages (4.5.5.62)\n",
      "Requirement already satisfied: numpy>=1.14.5; python_version >= \"3.7\" in c:\\users\\wongt\\anaconda3\\lib\\site-packages (from opencv-python) (1.18.5)\n"
     ]
    }
   ],
   "source": [
    "#!pip install opencv-python  "
   ]
  },
  {
   "cell_type": "code",
   "execution_count": 1,
   "metadata": {},
   "outputs": [
    {
     "ename": "ModuleNotFoundError",
     "evalue": "No module named 'matplotlib'",
     "output_type": "error",
     "traceback": [
      "\u001b[1;31m---------------------------------------------------------------------------\u001b[0m",
      "\u001b[1;31mModuleNotFoundError\u001b[0m                       Traceback (most recent call last)",
      "\u001b[1;32m<ipython-input-1-c156de124643>\u001b[0m in \u001b[0;36m<module>\u001b[1;34m\u001b[0m\n\u001b[0;32m      5\u001b[0m \u001b[1;32mimport\u001b[0m \u001b[0mcv2\u001b[0m\u001b[1;33m\u001b[0m\u001b[1;33m\u001b[0m\u001b[0m\n\u001b[0;32m      6\u001b[0m \u001b[1;32mimport\u001b[0m \u001b[0mrandom\u001b[0m\u001b[1;33m\u001b[0m\u001b[1;33m\u001b[0m\u001b[0m\n\u001b[1;32m----> 7\u001b[1;33m \u001b[1;32mimport\u001b[0m \u001b[0mmatplotlib\u001b[0m\u001b[1;33m.\u001b[0m\u001b[0mpyplot\u001b[0m \u001b[1;32mas\u001b[0m \u001b[0mplt\u001b[0m\u001b[1;33m\u001b[0m\u001b[1;33m\u001b[0m\u001b[0m\n\u001b[0m\u001b[0;32m      8\u001b[0m \u001b[0mprint\u001b[0m \u001b[1;33m(\u001b[0m\u001b[1;34m\"importation completed\"\u001b[0m\u001b[1;33m)\u001b[0m\u001b[1;33m\u001b[0m\u001b[1;33m\u001b[0m\u001b[0m\n",
      "\u001b[1;31mModuleNotFoundError\u001b[0m: No module named 'matplotlib'"
     ]
    }
   ],
   "source": [
    "import os\n",
    "import sys; sys.prefix\n",
    "import numpy as np\n",
    "import pickle\n",
    "import cv2\n",
    "import random\n",
    "import matplotlib.pyplot as plt\n",
    "print (\"importation completed\")"
   ]
  },
  {
   "cell_type": "code",
   "execution_count": 11,
   "metadata": {},
   "outputs": [
    {
     "name": "stdout",
     "output_type": "stream",
     "text": [
      "C:\\Users\\wongt\\Downloads\\2021-09\\lessthan5.19km\\image21-09-01_09-45-00-91_00578.jpg\n",
      "C:\\Users\\wongt\\Downloads\\2021-09\\lessthan5.19km\\image21-09-01_10-30-00-91_00581.jpg\n",
      "C:\\Users\\wongt\\Downloads\\2021-09\\lessthan5.19km\\image21-09-01_11-45-00-93_00586.jpg\n",
      "C:\\Users\\wongt\\Downloads\\2021-09\\lessthan5.19km\\image21-09-01_12-30-00-93_00589.jpg\n",
      "C:\\Users\\wongt\\Downloads\\2021-09\\lessthan5.19km\\image21-09-01_17-45-00-91_00610.jpg\n",
      "C:\\Users\\wongt\\Downloads\\2021-09\\lessthan5.19km\\image21-09-02_06-00-00-96_00612.jpg\n",
      "C:\\Users\\wongt\\Downloads\\2021-09\\lessthan5.19km\\image21-09-02_06-30-00-93_00614.jpg\n",
      "C:\\Users\\wongt\\Downloads\\2021-09\\lessthan5.19km\\image21-09-03_07-00-00-94_00665.jpg\n",
      "C:\\Users\\wongt\\Downloads\\2021-09\\lessthan5.19km\\image21-09-03_07-15-00-90_00666.jpg\n",
      "C:\\Users\\wongt\\Downloads\\2021-09\\lessthan5.19km\\image21-09-03_07-30-00-98_00667.jpg\n",
      "C:\\Users\\wongt\\Downloads\\2021-09\\lessthan5.19km\\image21-09-04_10-45-00-92_00729.jpg\n",
      "C:\\Users\\wongt\\Downloads\\2021-09\\lessthan5.19km\\image21-09-05_06-15-00-92_00760.jpg\n",
      "C:\\Users\\wongt\\Downloads\\2021-09\\lessthan5.19km\\image21-09-07_13-15-00-94_00886.jpg\n",
      "C:\\Users\\wongt\\Downloads\\2021-09\\lessthan5.19km\\image21-09-07_13-30-00-94_00887.jpg\n",
      "C:\\Users\\wongt\\Downloads\\2021-09\\lessthan5.19km\\image21-09-11_08-00-00-98_01061.jpg\n",
      "C:\\Users\\wongt\\Downloads\\2021-09\\lessthan5.19km\\image21-09-12_06-00-00-92_01102.jpg\n",
      "C:\\Users\\wongt\\Downloads\\2021-09\\lessthan5.19km\\image21-09-12_06-15-00-92_01103.jpg\n",
      "C:\\Users\\wongt\\Downloads\\2021-09\\lessthan5.19km\\image21-09-12_06-30-00-93_01104.jpg\n",
      "C:\\Users\\wongt\\Downloads\\2021-09\\lessthan5.19km\\image21-09-12_06-45-00-89_01105.jpg\n",
      "C:\\Users\\wongt\\Downloads\\2021-09\\lessthan5.19km\\image21-09-12_07-00-00-97_01106.jpg\n",
      "C:\\Users\\wongt\\Downloads\\2021-09\\lessthan5.19km\\image21-09-12_07-15-00-93_01107.jpg\n",
      "C:\\Users\\wongt\\Downloads\\2021-09\\lessthan5.19km\\image21-09-12_07-30-00-94_01108.jpg\n",
      "C:\\Users\\wongt\\Downloads\\2021-09\\lessthan5.19km\\image21-09-12_07-45-00-90_01109.jpg\n",
      "C:\\Users\\wongt\\Downloads\\2021-09\\lessthan5.19km\\image21-09-12_08-00-00-94_01110.jpg\n",
      "C:\\Users\\wongt\\Downloads\\2021-09\\lessthan5.19km\\image21-09-12_08-15-00-90_01111.jpg\n",
      "C:\\Users\\wongt\\Downloads\\2021-09\\lessthan5.19km\\image21-09-12_08-30-00-95_01112.jpg\n",
      "C:\\Users\\wongt\\Downloads\\2021-09\\lessthan5.19km\\image21-09-12_08-45-00-91_01113.jpg\n",
      "C:\\Users\\wongt\\Downloads\\2021-09\\lessthan5.19km\\image21-09-12_09-00-00-95_01114.jpg\n",
      "C:\\Users\\wongt\\Downloads\\2021-09\\lessthan5.19km\\image21-09-12_09-15-00-91_01115.jpg\n",
      "C:\\Users\\wongt\\Downloads\\2021-09\\lessthan5.19km\\image21-09-12_09-30-00-91_01116.jpg\n",
      "C:\\Users\\wongt\\Downloads\\2021-09\\lessthan5.19km\\image21-09-12_09-45-00-92_01117.jpg\n",
      "C:\\Users\\wongt\\Downloads\\2021-09\\lessthan5.19km\\image21-09-13_06-15-00-90_01152.jpg\n",
      "C:\\Users\\wongt\\Downloads\\2021-09\\lessthan5.19km\\image21-09-13_06-30-00-91_01153.jpg\n",
      "C:\\Users\\wongt\\Downloads\\2021-09\\lessthan5.19km\\image21-09-13_12-45-00-89_01178.jpg\n",
      "C:\\Users\\wongt\\Downloads\\2021-09\\lessthan5.19km\\image21-09-14_10-45-00-91_01219.jpg\n",
      "C:\\Users\\wongt\\Downloads\\2021-09\\lessthan5.19km\\image21-09-14_11-00-00-95_01220.jpg\n",
      "C:\\Users\\wongt\\Downloads\\2021-09\\lessthan5.19km\\image21-09-14_14-00-00-95_01232.jpg\n",
      "C:\\Users\\wongt\\Downloads\\2021-09\\lessthan5.19km\\image21-09-14_14-15-00-91_01233.jpg\n",
      "C:\\Users\\wongt\\Downloads\\2021-09\\lessthan5.19km\\image21-09-14_14-30-00-91_01234.jpg\n",
      "C:\\Users\\wongt\\Downloads\\2021-09\\lessthan5.19km\\image21-09-14_15-00-00-92_01236.jpg\n",
      "C:\\Users\\wongt\\Downloads\\2021-09\\lessthan5.19km\\image21-09-16_07-00-00-92_01302.jpg\n",
      "C:\\Users\\wongt\\Downloads\\2021-09\\lessthan5.19km\\image21-09-16_08-15-00-89_01307.jpg\n",
      "C:\\Users\\wongt\\Downloads\\2021-09\\lessthan5.19km\\image21-09-16_08-30-00-93_01308.jpg\n",
      "C:\\Users\\wongt\\Downloads\\2021-09\\lessthan5.19km\\image21-09-16_08-45-00-89_01309.jpg\n",
      "C:\\Users\\wongt\\Downloads\\2021-09\\lessthan5.19km\\image21-09-16_09-15-00-94_01311.jpg\n",
      "C:\\Users\\wongt\\Downloads\\2021-09\\lessthan5.19km\\image21-09-16_09-30-00-94_01312.jpg\n",
      "C:\\Users\\wongt\\Downloads\\2021-09\\lessthan5.19km\\image21-09-16_09-45-00-90_01313.jpg\n",
      "C:\\Users\\wongt\\Downloads\\2021-09\\lessthan5.19km\\image21-09-16_10-00-00-94_01314.jpg\n",
      "C:\\Users\\wongt\\Downloads\\2021-09\\lessthan5.19km\\image21-09-16_12-45-00-90_01325.jpg\n",
      "C:\\Users\\wongt\\Downloads\\2021-09\\lessthan5.19km\\image21-09-16_14-15-00-87_01331.jpg\n",
      "C:\\Users\\wongt\\Downloads\\2021-09\\lessthan5.19km\\image21-09-17_07-45-00-92_01354.jpg\n",
      "C:\\Users\\wongt\\Downloads\\2021-09\\lessthan5.19km\\image21-09-17_08-00-00-92_01355.jpg\n",
      "C:\\Users\\wongt\\Downloads\\2021-09\\lessthan5.19km\\image21-09-17_08-15-00-92_01356.jpg\n",
      "C:\\Users\\wongt\\Downloads\\2021-09\\lessthan5.19km\\image21-09-17_08-30-00-93_01357.jpg\n",
      "C:\\Users\\wongt\\Downloads\\2021-09\\lessthan5.19km\\image21-09-17_08-45-00-93_01358.jpg\n",
      "C:\\Users\\wongt\\Downloads\\2021-09\\lessthan5.19km\\image21-09-17_10-15-00-91_01364.jpg\n",
      "C:\\Users\\wongt\\Downloads\\2021-09\\lessthan5.19km\\image21-09-18_06-15-00-92_01397.jpg\n",
      "C:\\Users\\wongt\\Downloads\\2021-09\\lessthan5.19km\\image21-09-18_06-30-00-92_01398.jpg\n",
      "C:\\Users\\wongt\\Downloads\\2021-09\\lessthan5.19km\\image21-09-18_06-45-00-89_01399.jpg\n",
      "C:\\Users\\wongt\\Downloads\\2021-09\\lessthan5.19km\\image21-09-18_07-00-00-97_01400.jpg\n",
      "C:\\Users\\wongt\\Downloads\\2021-09\\lessthan5.19km\\image21-09-18_07-15-00-89_01401.jpg\n",
      "C:\\Users\\wongt\\Downloads\\2021-09\\lessthan5.19km\\image21-09-18_07-30-00-97_01402.jpg\n",
      "C:\\Users\\wongt\\Downloads\\2021-09\\lessthan5.19km\\image21-09-18_07-45-00-89_01403.jpg\n",
      "C:\\Users\\wongt\\Downloads\\2021-09\\lessthan5.19km\\image21-09-18_08-00-00-94_01404.jpg\n",
      "C:\\Users\\wongt\\Downloads\\2021-09\\lessthan5.19km\\image21-09-18_08-15-00-90_01405.jpg\n",
      "C:\\Users\\wongt\\Downloads\\2021-09\\lessthan5.19km\\image21-09-19_18-00-00-90_01493.jpg\n",
      "C:\\Users\\wongt\\Downloads\\2021-09\\lessthan5.19km\\image21-09-20_07-00-00-93_01498.jpg\n",
      "C:\\Users\\wongt\\Downloads\\2021-09\\lessthan5.19km\\image21-09-20_07-15-00-90_01499.jpg\n",
      "C:\\Users\\wongt\\Downloads\\2021-09\\lessthan5.19km\\image21-09-20_07-30-00-90_01500.jpg\n",
      "C:\\Users\\wongt\\Downloads\\2021-09\\lessthan5.19km\\image21-09-20_07-45-00-90_01501.jpg\n",
      "C:\\Users\\wongt\\Downloads\\2021-09\\lessthan5.19km\\image21-09-20_10-45-00-93_01513.jpg\n",
      "C:\\Users\\wongt\\Downloads\\2021-09\\lessthan5.19km\\image21-09-20_11-00-00-93_01514.jpg\n",
      "C:\\Users\\wongt\\Downloads\\2021-09\\lessthan5.19km\\image21-09-20_15-15-00-90_01531.jpg\n",
      "C:\\Users\\wongt\\Downloads\\2021-09\\lessthan5.19km\\image21-09-20_15-30-00-95_01532.jpg\n",
      "C:\\Users\\wongt\\Downloads\\2021-09\\lessthan5.19km\\image21-09-22_06-15-00-92_01593.jpg\n",
      "C:\\Users\\wongt\\Downloads\\2021-09\\lessthan5.19km\\image21-09-22_06-30-00-96_01594.jpg\n",
      "C:\\Users\\wongt\\Downloads\\2021-09\\lessthan5.19km\\image21-09-23_09-00-00-91_01653.jpg\n",
      "C:\\Users\\wongt\\Downloads\\2021-09\\lessthan5.19km\\image21-09-23_09-15-00-91_01654.jpg\n",
      "C:\\Users\\wongt\\Downloads\\2021-09\\lessthan5.19km\\image21-09-23_09-30-00-95_01655.jpg\n",
      "C:\\Users\\wongt\\Downloads\\2021-09\\lessthan5.19km\\image21-09-23_11-15-00-89_01662.jpg\n",
      "C:\\Users\\wongt\\Downloads\\2021-09\\lessthan5.19km\\image21-09-23_11-45-00-90_01664.jpg\n",
      "C:\\Users\\wongt\\Downloads\\2021-09\\lessthan5.19km\\image21-09-23_12-00-00-94_01665.jpg\n",
      "C:\\Users\\wongt\\Downloads\\2021-09\\lessthan5.19km\\image21-09-23_17-00-00-92_01685.jpg\n",
      "C:\\Users\\wongt\\Downloads\\2021-09\\lessthan5.19km\\image21-09-23_17-15-00-92_01686.jpg\n",
      "C:\\Users\\wongt\\Downloads\\2021-09\\lessthan5.19km\\image21-09-23_17-30-00-92_01687.jpg\n",
      "C:\\Users\\wongt\\Downloads\\2021-09\\lessthan5.19km\\image21-09-24_06-30-00-92_01692.jpg\n",
      "C:\\Users\\wongt\\Downloads\\2021-09\\lessthan5.19km\\image21-09-24_06-45-00-88_01693.jpg\n",
      "C:\\Users\\wongt\\Downloads\\2021-09\\lessthan5.19km\\image21-09-27_06-45-00-92_01840.jpg\n",
      "C:\\Users\\wongt\\Downloads\\2021-09\\lessthan5.19km\\image21-09-27_07-00-00-96_01841.jpg\n",
      "C:\\Users\\wongt\\Downloads\\2021-09\\lessthan5.19km\\image21-09-27_07-15-00-92_01842.jpg\n",
      "C:\\Users\\wongt\\Downloads\\2021-09\\lessthan5.19km\\image21-09-27_07-30-00-97_01843.jpg\n",
      "C:\\Users\\wongt\\Downloads\\2021-09\\lessthan5.19km\\image21-09-28_07-15-00-87_01891.jpg\n",
      "C:\\Users\\wongt\\Downloads\\2021-09\\lessthan5.19km\\image21-09-28_07-30-00-96_01892.jpg\n",
      "C:\\Users\\wongt\\Downloads\\2021-09\\lessthan5.19km\\image21-09-28_08-15-00-88_01895.jpg\n",
      "C:\\Users\\wongt\\Downloads\\2021-09\\lessthan5.19km\\image21-09-29_06-00-00-90_00025.jpg\n",
      "C:\\Users\\wongt\\Downloads\\2021-09\\lessthan5.19km\\image21-09-29_06-15-00-90_00026.jpg\n",
      "C:\\Users\\wongt\\Downloads\\2021-09\\lessthan5.19km\\image21-09-29_06-30-00-95_00027.jpg\n",
      "C:\\Users\\wongt\\Downloads\\2021-09\\lessthan5.19km\\image21-09-29_08-00-00-92_00033.jpg\n"
     ]
    },
    {
     "name": "stdout",
     "output_type": "stream",
     "text": [
      "C:\\Users\\wongt\\Downloads\\2021-09\\lessthan5.19km\\image21-09-29_08-15-00-88_00034.jpg\n",
      "C:\\Users\\wongt\\Downloads\\2021-09\\lessthan5.19km\\image21-09-29_11-00-00-94_00045.jpg\n",
      "C:\\Users\\wongt\\Downloads\\2021-09\\lessthan5.19km\\image21-09-29_17-45-00-91_00072.jpg\n",
      "C:\\Users\\wongt\\Downloads\\2021-09\\lessthan5.19km\\image21-09-29_18-00-00-95_00073.jpg\n",
      "C:\\Users\\wongt\\Downloads\\2021-09\\lessthan5.19km\\image21-09-30_06-00-00-91_00074.jpg\n",
      "C:\\Users\\wongt\\Downloads\\2021-09\\lessthan5.19km\\image21-09-30_06-15-00-91_00075.jpg\n",
      "C:\\Users\\wongt\\Downloads\\2021-09\\lessthan5.19km\\image21-09-30_06-30-00-92_00076.jpg\n",
      "C:\\Users\\wongt\\Downloads\\2021-09\\lessthan5.19km\\image21-09-30_06-45-00-92_00077.jpg\n",
      "C:\\Users\\wongt\\Downloads\\2021-09\\lessthan5.19km\\image21-09-30_08-00-00-97_00082.jpg\n",
      "C:\\Users\\wongt\\Downloads\\2021-09\\morethan5.19km\\image21-09-01_06-00-00-95_00563.jpg\n",
      "C:\\Users\\wongt\\Downloads\\2021-09\\morethan5.19km\\image21-09-01_13-45-00-91_00594.jpg\n",
      "C:\\Users\\wongt\\Downloads\\2021-09\\morethan5.19km\\image21-09-01_14-00-00-91_00595.jpg\n",
      "C:\\Users\\wongt\\Downloads\\2021-09\\morethan5.19km\\image21-09-01_15-45-00-89_00602.jpg\n",
      "C:\\Users\\wongt\\Downloads\\2021-09\\morethan5.19km\\image21-09-02_10-15-00-93_00629.jpg\n",
      "C:\\Users\\wongt\\Downloads\\2021-09\\morethan5.19km\\image21-09-02_10-30-00-93_00630.jpg\n",
      "C:\\Users\\wongt\\Downloads\\2021-09\\morethan5.19km\\image21-09-02_11-00-00-93_00632.jpg\n",
      "C:\\Users\\wongt\\Downloads\\2021-09\\morethan5.19km\\image21-09-02_11-30-00-94_00634.jpg\n",
      "C:\\Users\\wongt\\Downloads\\2021-09\\morethan5.19km\\image21-09-02_11-45-00-90_00635.jpg\n",
      "C:\\Users\\wongt\\Downloads\\2021-09\\morethan5.19km\\image21-09-02_12-30-00-95_00638.jpg\n",
      "C:\\Users\\wongt\\Downloads\\2021-09\\morethan5.19km\\image21-09-02_12-45-00-91_00639.jpg\n",
      "C:\\Users\\wongt\\Downloads\\2021-09\\morethan5.19km\\image21-09-02_13-15-00-92_00641.jpg\n",
      "C:\\Users\\wongt\\Downloads\\2021-09\\morethan5.19km\\image21-09-02_13-30-00-96_00642.jpg\n",
      "C:\\Users\\wongt\\Downloads\\2021-09\\morethan5.19km\\image21-09-02_13-45-00-89_00643.jpg\n",
      "C:\\Users\\wongt\\Downloads\\2021-09\\morethan5.19km\\image21-09-02_14-00-00-93_00644.jpg\n",
      "C:\\Users\\wongt\\Downloads\\2021-09\\morethan5.19km\\image21-09-02_14-15-00-89_00645.jpg\n",
      "C:\\Users\\wongt\\Downloads\\2021-09\\morethan5.19km\\image21-09-02_14-30-00-94_00646.jpg\n",
      "C:\\Users\\wongt\\Downloads\\2021-09\\morethan5.19km\\image21-09-02_14-45-00-90_00647.jpg\n",
      "C:\\Users\\wongt\\Downloads\\2021-09\\morethan5.19km\\image21-09-02_15-00-00-94_00648.jpg\n",
      "C:\\Users\\wongt\\Downloads\\2021-09\\morethan5.19km\\image21-09-02_15-15-00-90_00649.jpg\n",
      "C:\\Users\\wongt\\Downloads\\2021-09\\morethan5.19km\\image21-09-02_15-30-00-90_00650.jpg\n",
      "C:\\Users\\wongt\\Downloads\\2021-09\\morethan5.19km\\image21-09-02_15-45-00-91_00651.jpg\n",
      "C:\\Users\\wongt\\Downloads\\2021-09\\morethan5.19km\\image21-09-02_16-00-00-95_00652.jpg\n",
      "C:\\Users\\wongt\\Downloads\\2021-09\\morethan5.19km\\image21-09-02_16-15-00-95_00653.jpg\n",
      "C:\\Users\\wongt\\Downloads\\2021-09\\morethan5.19km\\image21-09-02_16-30-00-92_00654.jpg\n",
      "C:\\Users\\wongt\\Downloads\\2021-09\\morethan5.19km\\image21-09-02_16-45-00-96_00655.jpg\n",
      "C:\\Users\\wongt\\Downloads\\2021-09\\morethan5.19km\\image21-09-02_17-00-00-96_00656.jpg\n",
      "C:\\Users\\wongt\\Downloads\\2021-09\\morethan5.19km\\image21-09-02_17-15-00-92_00657.jpg\n",
      "C:\\Users\\wongt\\Downloads\\2021-09\\morethan5.19km\\image21-09-02_17-30-00-97_00658.jpg\n",
      "C:\\Users\\wongt\\Downloads\\2021-09\\morethan5.19km\\image21-09-03_10-15-00-94_00678.jpg\n",
      "C:\\Users\\wongt\\Downloads\\2021-09\\morethan5.19km\\image21-09-03_11-00-00-95_00681.jpg\n",
      "C:\\Users\\wongt\\Downloads\\2021-09\\morethan5.19km\\image21-09-03_11-15-00-91_00682.jpg\n",
      "C:\\Users\\wongt\\Downloads\\2021-09\\morethan5.19km\\image21-09-03_11-30-00-95_00683.jpg\n",
      "C:\\Users\\wongt\\Downloads\\2021-09\\morethan5.19km\\image21-09-03_11-45-00-96_00684.jpg\n",
      "C:\\Users\\wongt\\Downloads\\2021-09\\morethan5.19km\\image21-09-03_12-00-00-96_00685.jpg\n",
      "C:\\Users\\wongt\\Downloads\\2021-09\\morethan5.19km\\image21-09-03_12-45-00-92_00688.jpg\n",
      "C:\\Users\\wongt\\Downloads\\2021-09\\morethan5.19km\\image21-09-03_13-00-00-96_00689.jpg\n",
      "C:\\Users\\wongt\\Downloads\\2021-09\\morethan5.19km\\image21-09-03_13-45-00-93_00692.jpg\n",
      "C:\\Users\\wongt\\Downloads\\2021-09\\morethan5.19km\\image21-09-03_14-00-00-93_00693.jpg\n",
      "C:\\Users\\wongt\\Downloads\\2021-09\\morethan5.19km\\image21-09-03_14-15-00-94_00694.jpg\n",
      "C:\\Users\\wongt\\Downloads\\2021-09\\morethan5.19km\\image21-09-03_14-30-00-98_00695.jpg\n",
      "C:\\Users\\wongt\\Downloads\\2021-09\\morethan5.19km\\image21-09-03_14-45-00-90_00696.jpg\n",
      "C:\\Users\\wongt\\Downloads\\2021-09\\morethan5.19km\\image21-09-03_15-00-00-95_00697.jpg\n",
      "C:\\Users\\wongt\\Downloads\\2021-09\\morethan5.19km\\image21-09-03_15-15-00-91_00698.jpg\n",
      "C:\\Users\\wongt\\Downloads\\2021-09\\morethan5.19km\\image21-09-03_15-30-00-99_00699.jpg\n",
      "C:\\Users\\wongt\\Downloads\\2021-09\\morethan5.19km\\image21-09-03_15-45-00-91_00700.jpg\n",
      "C:\\Users\\wongt\\Downloads\\2021-09\\morethan5.19km\\image21-09-03_16-00-00-96_00701.jpg\n",
      "C:\\Users\\wongt\\Downloads\\2021-09\\morethan5.19km\\image21-09-03_16-15-00-92_00702.jpg\n",
      "C:\\Users\\wongt\\Downloads\\2021-09\\morethan5.19km\\image21-09-03_16-30-00-96_00703.jpg\n",
      "C:\\Users\\wongt\\Downloads\\2021-09\\morethan5.19km\\image21-09-03_16-45-00-93_00704.jpg\n",
      "C:\\Users\\wongt\\Downloads\\2021-09\\morethan5.19km\\image21-09-03_17-00-00-97_00705.jpg\n",
      "C:\\Users\\wongt\\Downloads\\2021-09\\morethan5.19km\\image21-09-04_13-45-00-91_00741.jpg\n",
      "C:\\Users\\wongt\\Downloads\\2021-09\\morethan5.19km\\image21-09-04_14-00-00-95_00742.jpg\n",
      "C:\\Users\\wongt\\Downloads\\2021-09\\morethan5.19km\\image21-09-04_14-15-00-96_00743.jpg\n",
      "C:\\Users\\wongt\\Downloads\\2021-09\\morethan5.19km\\image21-09-04_14-30-00-96_00744.jpg\n",
      "C:\\Users\\wongt\\Downloads\\2021-09\\morethan5.19km\\image21-09-04_14-45-00-93_00745.jpg\n",
      "C:\\Users\\wongt\\Downloads\\2021-09\\morethan5.19km\\image21-09-04_15-00-00-93_00746.jpg\n",
      "C:\\Users\\wongt\\Downloads\\2021-09\\morethan5.19km\\image21-09-04_15-15-00-93_00747.jpg\n",
      "C:\\Users\\wongt\\Downloads\\2021-09\\morethan5.19km\\image21-09-04_15-30-00-97_00748.jpg\n",
      "C:\\Users\\wongt\\Downloads\\2021-09\\morethan5.19km\\image21-09-04_15-45-00-94_00749.jpg\n",
      "C:\\Users\\wongt\\Downloads\\2021-09\\morethan5.19km\\image21-09-04_16-00-00-94_00750.jpg\n",
      "C:\\Users\\wongt\\Downloads\\2021-09\\morethan5.19km\\image21-09-04_16-15-00-90_00751.jpg\n",
      "C:\\Users\\wongt\\Downloads\\2021-09\\morethan5.19km\\image21-09-04_16-30-00-94_00752.jpg\n",
      "C:\\Users\\wongt\\Downloads\\2021-09\\morethan5.19km\\image21-09-05_11-15-00-91_00780.jpg\n",
      "C:\\Users\\wongt\\Downloads\\2021-09\\morethan5.19km\\image21-09-05_11-30-00-95_00781.jpg\n",
      "C:\\Users\\wongt\\Downloads\\2021-09\\morethan5.19km\\image21-09-05_11-45-00-91_00782.jpg\n",
      "C:\\Users\\wongt\\Downloads\\2021-09\\morethan5.19km\\image21-09-05_12-00-00-92_00783.jpg\n",
      "C:\\Users\\wongt\\Downloads\\2021-09\\morethan5.19km\\image21-09-05_12-15-00-92_00784.jpg\n",
      "C:\\Users\\wongt\\Downloads\\2021-09\\morethan5.19km\\image21-09-05_13-00-00-97_00787.jpg\n",
      "C:\\Users\\wongt\\Downloads\\2021-09\\morethan5.19km\\image21-09-05_13-15-00-93_00788.jpg\n",
      "C:\\Users\\wongt\\Downloads\\2021-09\\morethan5.19km\\image21-09-05_13-30-00-93_00789.jpg\n",
      "C:\\Users\\wongt\\Downloads\\2021-09\\morethan5.19km\\image21-09-05_13-45-00-94_00790.jpg\n",
      "C:\\Users\\wongt\\Downloads\\2021-09\\morethan5.19km\\image21-09-05_15-00-00-95_00795.jpg\n",
      "C:\\Users\\wongt\\Downloads\\2021-09\\morethan5.19km\\image21-09-05_15-15-00-95_00796.jpg\n",
      "C:\\Users\\wongt\\Downloads\\2021-09\\morethan5.19km\\image21-09-05_16-00-00-96_00799.jpg\n",
      "C:\\Users\\wongt\\Downloads\\2021-09\\morethan5.19km\\image21-09-05_16-15-00-92_00800.jpg\n",
      "C:\\Users\\wongt\\Downloads\\2021-09\\morethan5.19km\\image21-09-05_16-30-00-96_00801.jpg\n",
      "C:\\Users\\wongt\\Downloads\\2021-09\\morethan5.19km\\image21-09-05_16-45-00-93_00802.jpg\n",
      "C:\\Users\\wongt\\Downloads\\2021-09\\morethan5.19km\\image21-09-06_08-45-00-90_00819.jpg\n",
      "C:\\Users\\wongt\\Downloads\\2021-09\\morethan5.19km\\image21-09-06_09-00-00-94_00820.jpg\n",
      "C:\\Users\\wongt\\Downloads\\2021-09\\morethan5.19km\\image21-09-06_09-15-00-94_00821.jpg\n",
      "C:\\Users\\wongt\\Downloads\\2021-09\\morethan5.19km\\image21-09-06_09-30-00-94_00822.jpg\n",
      "C:\\Users\\wongt\\Downloads\\2021-09\\morethan5.19km\\image21-09-07_14-15-00-91_00890.jpg\n",
      "C:\\Users\\wongt\\Downloads\\2021-09\\morethan5.19km\\image21-09-07_15-15-00-92_00894.jpg\n",
      "C:\\Users\\wongt\\Downloads\\2021-09\\morethan5.19km\\image21-09-07_15-30-00-92_00895.jpg\n",
      "C:\\Users\\wongt\\Downloads\\2021-09\\morethan5.19km\\image21-09-07_15-45-00-93_00896.jpg\n",
      "C:\\Users\\wongt\\Downloads\\2021-09\\morethan5.19km\\image21-09-07_16-00-00-97_00897.jpg\n",
      "C:\\Users\\wongt\\Downloads\\2021-09\\morethan5.19km\\image21-09-08_13-15-00-94_00935.jpg\n",
      "C:\\Users\\wongt\\Downloads\\2021-09\\morethan5.19km\\image21-09-08_13-45-00-91_00937.jpg\n"
     ]
    },
    {
     "name": "stdout",
     "output_type": "stream",
     "text": [
      "C:\\Users\\wongt\\Downloads\\2021-09\\morethan5.19km\\image21-09-08_14-00-00-95_00938.jpg\n",
      "C:\\Users\\wongt\\Downloads\\2021-09\\morethan5.19km\\image21-09-08_14-15-00-91_00939.jpg\n",
      "C:\\Users\\wongt\\Downloads\\2021-09\\morethan5.19km\\image21-09-08_14-30-01-00_00940.jpg\n",
      "C:\\Users\\wongt\\Downloads\\2021-09\\morethan5.19km\\image21-09-08_14-45-00-92_00941.jpg\n",
      "C:\\Users\\wongt\\Downloads\\2021-09\\morethan5.19km\\image21-09-08_15-00-00-92_00942.jpg\n",
      "C:\\Users\\wongt\\Downloads\\2021-09\\morethan5.19km\\image21-09-08_15-15-00-92_00943.jpg\n",
      "C:\\Users\\wongt\\Downloads\\2021-09\\morethan5.19km\\image21-09-08_15-30-00-93_00944.jpg\n",
      "C:\\Users\\wongt\\Downloads\\2021-09\\morethan5.19km\\image21-09-10_13-45-00-95_01035.jpg\n",
      "C:\\Users\\wongt\\Downloads\\2021-09\\morethan5.19km\\image21-09-10_14-00-00-95_01036.jpg\n",
      "C:\\Users\\wongt\\Downloads\\2021-09\\morethan5.19km\\image21-09-10_14-15-00-87_01037.jpg\n",
      "C:\\Users\\wongt\\Downloads\\2021-09\\morethan5.19km\\image21-09-10_14-30-00-91_01038.jpg\n"
     ]
    }
   ],
   "source": [
    "directory=r'C:\\Users\\wongt\\Downloads\\2021-09'\n",
    "catergories=['lessthan5.19km','morethan5.19km']\n",
    "\n",
    "image_x=1000\n",
    "image_y=1000\n",
    "\n",
    "dataset=[]\n",
    "\n",
    "for catergory in catergories:\n",
    "    folder=os.path.join(directory,catergory)\n",
    "    label=catergories.index(catergory)\n",
    "    for img in os.listdir(folder):\n",
    "        imgpath=os.path.join(folder,img)\n",
    "        #print(imgpath)\n",
    "        imgs=cv2.imread(imgpath)\n",
    "        \n",
    "        ##here to adjust the resoltion of images,can make the whole thing faster if size is smaller\n",
    "        imgs=cv2.resize(imgs,(image_x,image_y))\n",
    "        \n",
    "        dataset.append([imgs,label])\n",
    "print(\"step completed\")\n",
    "    \n",
    "    "
   ]
  },
  {
   "cell_type": "code",
   "execution_count": 13,
   "metadata": {
    "scrolled": true
   },
   "outputs": [
    {
     "data": {
      "text/plain": [
       "207"
      ]
     },
     "execution_count": 13,
     "metadata": {},
     "output_type": "execute_result"
    }
   ],
   "source": [
    "len(dataset)"
   ]
  },
  {
   "cell_type": "code",
   "execution_count": 14,
   "metadata": {
    "scrolled": true
   },
   "outputs": [
    {
     "name": "stdout",
     "output_type": "stream",
     "text": [
      "step completed\n"
     ]
    }
   ],
   "source": [
    "random.shuffle(dataset)\n",
    "print(\"step completed\")"
   ]
  },
  {
   "cell_type": "code",
   "execution_count": 15,
   "metadata": {},
   "outputs": [
    {
     "name": "stdout",
     "output_type": "stream",
     "text": [
      "step completed\n"
     ]
    }
   ],
   "source": [
    "x=[]\n",
    "y=[]\n",
    "\n",
    "for features, labels in dataset:\n",
    "    x.append(features)\n",
    "    y.append(labels)\n",
    "print(\"step completed\")"
   ]
  },
  {
   "cell_type": "code",
   "execution_count": 18,
   "metadata": {},
   "outputs": [
    {
     "name": "stdout",
     "output_type": "stream",
     "text": [
      "step completed\n"
     ]
    }
   ],
   "source": [
    "#then use numpy array\n",
    "\n",
    "x=np.array(x)\n",
    "y=np.array(y)\n",
    "\n",
    "print(\"step completed\")"
   ]
  },
  {
   "cell_type": "code",
   "execution_count": 20,
   "metadata": {},
   "outputs": [
    {
     "name": "stdout",
     "output_type": "stream",
     "text": [
      "step completed\n"
     ]
    }
   ],
   "source": [
    "##optional step below to save and load dataset in the computer\n",
    "pickle.dump(x,open(\"x.pkl\",\"wb\"))\n",
    "pickle.dump(y,open(\"y.pkl\",\"wb\"))\n",
    "\n",
    "print(\"step completed\")"
   ]
  },
  {
   "cell_type": "code",
   "execution_count": 2,
   "metadata": {},
   "outputs": [
    {
     "name": "stdout",
     "output_type": "stream",
     "text": [
      "step completed\n"
     ]
    }
   ],
   "source": [
    "#train the model below\n",
    "##load dataset with pickle\n",
    "x=pickle.load(open(\"x.pkl\",\"rb\"))\n",
    "y=pickle.load(open(\"y.pkl\",\"rb\"))\n",
    "print(\"step completed\")"
   ]
  },
  {
   "cell_type": "code",
   "execution_count": 3,
   "metadata": {},
   "outputs": [
    {
     "name": "stdout",
     "output_type": "stream",
     "text": [
      "step completed\n"
     ]
    }
   ],
   "source": [
    "##???\n",
    "x=x/255\n",
    "print(\"step completed\")"
   ]
  },
  {
   "cell_type": "code",
   "execution_count": 4,
   "metadata": {},
   "outputs": [
    {
     "data": {
      "text/plain": [
       "(207, 1000, 1000, 3)"
      ]
     },
     "execution_count": 4,
     "metadata": {},
     "output_type": "execute_result"
    }
   ],
   "source": [
    "x.shape"
   ]
  },
  {
   "cell_type": "code",
   "execution_count": 5,
   "metadata": {},
   "outputs": [
    {
     "ename": "ModuleNotFoundError",
     "evalue": "No module named 'tensorflow'",
     "output_type": "error",
     "traceback": [
      "\u001b[1;31m---------------------------------------------------------------------------\u001b[0m",
      "\u001b[1;31mModuleNotFoundError\u001b[0m                       Traceback (most recent call last)",
      "\u001b[1;32m<ipython-input-5-5b53e533ea70>\u001b[0m in \u001b[0;36m<module>\u001b[1;34m\u001b[0m\n\u001b[0;32m      1\u001b[0m \u001b[1;31m##use keras from tensorflow\u001b[0m\u001b[1;33m\u001b[0m\u001b[1;33m\u001b[0m\u001b[1;33m\u001b[0m\u001b[0m\n\u001b[1;32m----> 2\u001b[1;33m \u001b[1;32mfrom\u001b[0m \u001b[0mkeras\u001b[0m\u001b[1;33m.\u001b[0m\u001b[0mmodels\u001b[0m \u001b[1;32mimport\u001b[0m \u001b[0mSequential\u001b[0m\u001b[1;33m\u001b[0m\u001b[1;33m\u001b[0m\u001b[0m\n\u001b[0m\u001b[0;32m      3\u001b[0m \u001b[1;32mfrom\u001b[0m \u001b[0mkeras\u001b[0m\u001b[1;33m.\u001b[0m\u001b[0mlayers\u001b[0m \u001b[1;32mimport\u001b[0m \u001b[0mConv2D\u001b[0m\u001b[1;33m,\u001b[0m \u001b[0mMaxPooling2D\u001b[0m\u001b[1;33m,\u001b[0m \u001b[0mFlatten\u001b[0m\u001b[1;33m,\u001b[0m \u001b[0mDense\u001b[0m\u001b[1;33m\u001b[0m\u001b[1;33m\u001b[0m\u001b[0m\n\u001b[0;32m      4\u001b[0m \u001b[0mprint\u001b[0m\u001b[1;33m(\u001b[0m\u001b[1;34m\"step completed\"\u001b[0m\u001b[1;33m)\u001b[0m\u001b[1;33m\u001b[0m\u001b[1;33m\u001b[0m\u001b[0m\n",
      "\u001b[1;32m~\\anaconda3\\lib\\site-packages\\keras\\__init__.py\u001b[0m in \u001b[0;36m<module>\u001b[1;34m\u001b[0m\n\u001b[0;32m     19\u001b[0m \"\"\"\n\u001b[0;32m     20\u001b[0m \u001b[1;31m# pylint: disable=unused-import\u001b[0m\u001b[1;33m\u001b[0m\u001b[1;33m\u001b[0m\u001b[1;33m\u001b[0m\u001b[0m\n\u001b[1;32m---> 21\u001b[1;33m \u001b[1;32mfrom\u001b[0m \u001b[0mtensorflow\u001b[0m\u001b[1;33m.\u001b[0m\u001b[0mpython\u001b[0m \u001b[1;32mimport\u001b[0m \u001b[0mtf2\u001b[0m\u001b[1;33m\u001b[0m\u001b[1;33m\u001b[0m\u001b[0m\n\u001b[0m\u001b[0;32m     22\u001b[0m \u001b[1;32mfrom\u001b[0m \u001b[0mkeras\u001b[0m \u001b[1;32mimport\u001b[0m \u001b[0mdistribute\u001b[0m\u001b[1;33m\u001b[0m\u001b[1;33m\u001b[0m\u001b[0m\n\u001b[0;32m     23\u001b[0m \u001b[1;33m\u001b[0m\u001b[0m\n",
      "\u001b[1;31mModuleNotFoundError\u001b[0m: No module named 'tensorflow'"
     ]
    }
   ],
   "source": [
    "##use keras from tensorflow\n",
    "from keras.models import Sequential\n",
    "from keras.layers import Conv2D, MaxPooling2D, Flatten, Dense\n",
    "print(\"step completed\")"
   ]
  }
 ],
 "metadata": {
  "kernelspec": {
   "display_name": "Python 3",
   "language": "python",
   "name": "python3"
  },
  "language_info": {
   "codemirror_mode": {
    "name": "ipython",
    "version": 3
   },
   "file_extension": ".py",
   "mimetype": "text/x-python",
   "name": "python",
   "nbconvert_exporter": "python",
   "pygments_lexer": "ipython3",
   "version": "3.6.13"
  }
 },
 "nbformat": 4,
 "nbformat_minor": 4
}
