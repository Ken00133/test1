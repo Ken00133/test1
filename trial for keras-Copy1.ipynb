{
 "cells": [
  {
   "cell_type": "code",
   "execution_count": 40,
   "metadata": {
    "scrolled": true
   },
   "outputs": [
    {
     "name": "stdout",
     "output_type": "stream",
     "text": [
      "Requirement already satisfied: opencv-python in c:\\users\\wongt\\appdata\\roaming\\python\\python38\\site-packages (4.5.5.62)\n",
      "Requirement already satisfied: numpy>=1.14.5; python_version >= \"3.7\" in c:\\users\\wongt\\anaconda3\\lib\\site-packages (from opencv-python) (1.18.5)\n"
     ]
    }
   ],
   "source": [
    "#!pip install opencv-python  "
   ]
  },
  {
   "cell_type": "code",
   "execution_count": 1,
   "metadata": {},
   "outputs": [
    {
     "name": "stdout",
     "output_type": "stream",
     "text": [
      "importation completed\n"
     ]
    }
   ],
   "source": [
    "import os\n",
    "import sys; sys.prefix\n",
    "import numpy as np\n",
    "import pickle\n",
    "import cv2\n",
    "import random\n",
    "import matplotlib.pyplot as plt\n",
    "print (\"importation completed\")"
   ]
  },
  {
   "cell_type": "code",
   "execution_count": 2,
   "metadata": {},
   "outputs": [
    {
     "name": "stdout",
     "output_type": "stream",
     "text": [
      "step completed\n"
     ]
    }
   ],
   "source": [
    "directory=r'C:\\Users\\USER\\programming\\weathercam2022\\2021-09'\n",
    "catergories=['lessthan5.19km','morethan5.19km']\n",
    "\n",
    "image_x=1000\n",
    "image_y=1000\n",
    "\n",
    "dataset=[]\n",
    "\n",
    "for catergory in catergories:\n",
    "    folder=os.path.join(directory,catergory)\n",
    "    label=catergories.index(catergory)\n",
    "    for img in os.listdir(folder):\n",
    "        imgpath=os.path.join(folder,img)\n",
    "        #print(imgpath)\n",
    "        imgs=cv2.imread(imgpath)\n",
    "        \n",
    "        ##here to adjust the resoltion of images,can make the whole thing faster if size is smaller\n",
    "        imgs=cv2.resize(imgs,(image_x,image_y))\n",
    "        \n",
    "        dataset.append([imgs,label])\n",
    "print(\"step completed\")\n",
    "    \n",
    "    "
   ]
  },
  {
   "cell_type": "code",
   "execution_count": 3,
   "metadata": {
    "scrolled": true
   },
   "outputs": [
    {
     "data": {
      "text/plain": [
       "207"
      ]
     },
     "execution_count": 3,
     "metadata": {},
     "output_type": "execute_result"
    }
   ],
   "source": [
    "len(dataset)"
   ]
  },
  {
   "cell_type": "code",
   "execution_count": 4,
   "metadata": {
    "scrolled": true
   },
   "outputs": [
    {
     "name": "stdout",
     "output_type": "stream",
     "text": [
      "step completed\n"
     ]
    }
   ],
   "source": [
    "random.shuffle(dataset)\n",
    "print(\"step completed\")"
   ]
  },
  {
   "cell_type": "code",
   "execution_count": 5,
   "metadata": {},
   "outputs": [
    {
     "name": "stdout",
     "output_type": "stream",
     "text": [
      "step completed\n"
     ]
    }
   ],
   "source": [
    "x=[]\n",
    "y=[]\n",
    "\n",
    "for features, labels in dataset:\n",
    "    x.append(features)\n",
    "    y.append(labels)\n",
    "print(\"step completed\")"
   ]
  },
  {
   "cell_type": "code",
   "execution_count": 6,
   "metadata": {},
   "outputs": [
    {
     "name": "stdout",
     "output_type": "stream",
     "text": [
      "step completed\n"
     ]
    }
   ],
   "source": [
    "#then use numpy array\n",
    "\n",
    "x=np.array(x)\n",
    "y=np.array(y)\n",
    "\n",
    "print(\"step completed\")"
   ]
  },
  {
   "cell_type": "code",
   "execution_count": 7,
   "metadata": {},
   "outputs": [
    {
     "name": "stdout",
     "output_type": "stream",
     "text": [
      "step completed\n"
     ]
    }
   ],
   "source": [
    "##optional step below to save and load dataset in the computer\n",
    "pickle.dump(x,open(\"x.pkl\",\"wb\"))\n",
    "pickle.dump(y,open(\"y.pkl\",\"wb\"))\n",
    "\n",
    "print(\"step completed\")"
   ]
  },
  {
   "cell_type": "code",
   "execution_count": 8,
   "metadata": {},
   "outputs": [
    {
     "name": "stdout",
     "output_type": "stream",
     "text": [
      "step completed\n"
     ]
    }
   ],
   "source": [
    "#train the model below\n",
    "##load dataset with pickle\n",
    "x=pickle.load(open(\"x.pkl\",\"rb\"))\n",
    "y=pickle.load(open(\"y.pkl\",\"rb\"))\n",
    "print(\"step completed\")"
   ]
  },
  {
   "cell_type": "code",
   "execution_count": 9,
   "metadata": {},
   "outputs": [
    {
     "name": "stdout",
     "output_type": "stream",
     "text": [
      "step completed\n"
     ]
    }
   ],
   "source": [
    "##???\n",
    "x=x/255\n",
    "print(\"step completed\")"
   ]
  },
  {
   "cell_type": "code",
   "execution_count": 10,
   "metadata": {},
   "outputs": [
    {
     "data": {
      "text/plain": [
       "(207, 1000, 1000, 3)"
      ]
     },
     "execution_count": 10,
     "metadata": {},
     "output_type": "execute_result"
    }
   ],
   "source": [
    "x.shape"
   ]
  },
  {
   "cell_type": "code",
   "execution_count": 11,
   "metadata": {},
   "outputs": [
    {
     "name": "stderr",
     "output_type": "stream",
     "text": [
      "Using TensorFlow backend.\n"
     ]
    },
    {
     "name": "stdout",
     "output_type": "stream",
     "text": [
      "step completed\n"
     ]
    }
   ],
   "source": [
    "##use keras from tensorflow\n",
    "from keras.models import Sequential\n",
    "from keras.layers import Conv2D, MaxPooling2D, Flatten, Dense\n",
    "print(\"step completed\")"
   ]
  },
  {
   "cell_type": "code",
   "execution_count": null,
   "metadata": {},
   "outputs": [],
   "source": [
    "##set up the model\n",
    "\n",
    "model=Sequential()\n",
    "\n",
    "model.add(Conv2D(64,(3,3),activation=\"relu\"))\n",
    "model.add(MaxPooling2D((2,2)))\n",
    "\n",
    "model.add(Flatten())\n",
    "\n",
    "model.add(Dense(128, input_shape=x.shape[1:]))\n",
    "\n",
    "model.add(Dense(2,activation=\"softmax\"))"
   ]
  },
  {
   "cell_type": "code",
   "execution_count": null,
   "metadata": {},
   "outputs": [],
   "source": [
    "model.compile(optimizer=\"adam\",loss=\"sparse_categorical_crossentropy\", metrics=[\"accuracy\"])"
   ]
  },
  {
   "cell_type": "code",
   "execution_count": null,
   "metadata": {},
   "outputs": [],
   "source": [
    "model.fit(x,y,epochs=3, validation_split=0.2)"
   ]
  },
  {
   "cell_type": "code",
   "execution_count": 13,
   "metadata": {},
   "outputs": [
    {
     "data": {
      "text/plain": [
       "<keras.engine.sequential.Sequential at 0x1d2feeb63c8>"
      ]
     },
     "execution_count": 13,
     "metadata": {},
     "output_type": "execute_result"
    }
   ],
   "source": [
    "model"
   ]
  },
  {
   "cell_type": "code",
   "execution_count": null,
   "metadata": {},
   "outputs": [],
   "source": []
  }
 ],
 "metadata": {
  "kernelspec": {
   "display_name": "Python 3",
   "language": "python",
   "name": "python3"
  },
  "language_info": {
   "codemirror_mode": {
    "name": "ipython",
    "version": 3
   },
   "file_extension": ".py",
   "mimetype": "text/x-python",
   "name": "python",
   "nbconvert_exporter": "python",
   "pygments_lexer": "ipython3",
   "version": "3.6.13"
  }
 },
 "nbformat": 4,
 "nbformat_minor": 4
}
